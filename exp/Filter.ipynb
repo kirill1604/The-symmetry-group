{
 "cells": [
  {
   "cell_type": "code",
   "execution_count": 345,
   "id": "e21e9172-3ac3-4ffe-a5a5-ff7d4c7de69e",
   "metadata": {},
   "outputs": [],
   "source": [
    "import pandas as pd\n",
    "from rdkit import Chem\n",
    "from rdkit.Chem import AllChem\n",
    "from rdkit.Chem import QED\n",
    "from rdkit.Contrib.SA_Score import sascorer\n",
    "from rdkit.Chem.FilterCatalog import FilterCatalog, FilterCatalogParams\n",
    "from rdkit.Chem import Descriptors\n",
    "from rdkit.Chem.Lipinski import NumHDonors, NumHAcceptors\n",
    "from rdkit.Chem.rdMolDescriptors import CalcNumRotatableBonds\n",
    "import xgboost as xgb"
   ]
  },
  {
   "cell_type": "code",
   "execution_count": 347,
   "id": "1a79b9d8-3a36-4dc6-aa7c-69e510eb77f7",
   "metadata": {},
   "outputs": [],
   "source": [
    "df = pd.read_csv(r\"C:\\Users\\kiril\\Desktop\\10.2 семестр\\хакатон спб\\HDAC6_smiles_10k.csv\")"
   ]
  },
  {
   "cell_type": "code",
   "execution_count": 348,
   "id": "2c9ab0e6-f64b-44ab-aa69-87d07a782120",
   "metadata": {},
   "outputs": [
    {
     "data": {
      "text/html": [
       "<div>\n",
       "<style scoped>\n",
       "    .dataframe tbody tr th:only-of-type {\n",
       "        vertical-align: middle;\n",
       "    }\n",
       "\n",
       "    .dataframe tbody tr th {\n",
       "        vertical-align: top;\n",
       "    }\n",
       "\n",
       "    .dataframe thead th {\n",
       "        text-align: right;\n",
       "    }\n",
       "</style>\n",
       "<table border=\"1\" class=\"dataframe\">\n",
       "  <thead>\n",
       "    <tr style=\"text-align: right;\">\n",
       "      <th></th>\n",
       "      <th>SMILES</th>\n",
       "    </tr>\n",
       "  </thead>\n",
       "  <tbody>\n",
       "    <tr>\n",
       "      <th>0</th>\n",
       "      <td>O=C(CNCCNc1ccc2c(c1)/C(=C1\\Nc3ccccc31)C(=O)N2)...</td>\n",
       "    </tr>\n",
       "    <tr>\n",
       "      <th>1</th>\n",
       "      <td>C=c1[nH]c(=O)/c(=C(C)/N=C(\\S)Nc2ccc(CCNC3c4cc(...</td>\n",
       "    </tr>\n",
       "    <tr>\n",
       "      <th>2</th>\n",
       "      <td>CC(C)c1cc(O)c(O)c(/C=C/C(=N)NCCN2CCN(CCNc3ccc4...</td>\n",
       "    </tr>\n",
       "    <tr>\n",
       "      <th>3</th>\n",
       "      <td>CC(=O)C1=C(C)c2cc(O)cc(/C=C/c3cc(C)c(O)c(O)c3O...</td>\n",
       "    </tr>\n",
       "    <tr>\n",
       "      <th>4</th>\n",
       "      <td>CCN(CC)CCN(CCO)CCNC(=O)Oc1ccc2c(c1)Nc1cc(O)ccc...</td>\n",
       "    </tr>\n",
       "    <tr>\n",
       "      <th>...</th>\n",
       "      <td>...</td>\n",
       "    </tr>\n",
       "    <tr>\n",
       "      <th>8717</th>\n",
       "      <td>CC(=O)Nc1cc(Nc2ncc(Br)c(Nc3ccccc3Br)n2)ccc1NCC...</td>\n",
       "    </tr>\n",
       "    <tr>\n",
       "      <th>8718</th>\n",
       "      <td>Cc1ccc(Nc2nc(Nc3cc(Cl)c(O)c(F)c3NCCN)ncc2I)c(N...</td>\n",
       "    </tr>\n",
       "    <tr>\n",
       "      <th>8719</th>\n",
       "      <td>OCCCCNCC(O)CNC(O)c1ccccc1Nc1ncc(Br)c(Nc2cc(F)c...</td>\n",
       "    </tr>\n",
       "    <tr>\n",
       "      <th>8720</th>\n",
       "      <td>O=C(CNCCCNCC(O)CO)Nc1ccc(Nc2ncc(Br)c(Nc3cc(F)c...</td>\n",
       "    </tr>\n",
       "    <tr>\n",
       "      <th>8721</th>\n",
       "      <td>OCCNC(=S)c1ccc(CNc2ccc(O)c(O)c2)cc1</td>\n",
       "    </tr>\n",
       "  </tbody>\n",
       "</table>\n",
       "<p>8722 rows × 1 columns</p>\n",
       "</div>"
      ],
      "text/plain": [
       "                                                 SMILES\n",
       "0     O=C(CNCCNc1ccc2c(c1)/C(=C1\\Nc3ccccc31)C(=O)N2)...\n",
       "1     C=c1[nH]c(=O)/c(=C(C)/N=C(\\S)Nc2ccc(CCNC3c4cc(...\n",
       "2     CC(C)c1cc(O)c(O)c(/C=C/C(=N)NCCN2CCN(CCNc3ccc4...\n",
       "3     CC(=O)C1=C(C)c2cc(O)cc(/C=C/c3cc(C)c(O)c(O)c3O...\n",
       "4     CCN(CC)CCN(CCO)CCNC(=O)Oc1ccc2c(c1)Nc1cc(O)ccc...\n",
       "...                                                 ...\n",
       "8717  CC(=O)Nc1cc(Nc2ncc(Br)c(Nc3ccccc3Br)n2)ccc1NCC...\n",
       "8718  Cc1ccc(Nc2nc(Nc3cc(Cl)c(O)c(F)c3NCCN)ncc2I)c(N...\n",
       "8719  OCCCCNCC(O)CNC(O)c1ccccc1Nc1ncc(Br)c(Nc2cc(F)c...\n",
       "8720  O=C(CNCCCNCC(O)CO)Nc1ccc(Nc2ncc(Br)c(Nc3cc(F)c...\n",
       "8721                OCCNC(=S)c1ccc(CNc2ccc(O)c(O)c2)cc1\n",
       "\n",
       "[8722 rows x 1 columns]"
      ]
     },
     "execution_count": 348,
     "metadata": {},
     "output_type": "execute_result"
    }
   ],
   "source": [
    "df"
   ]
  },
  {
   "cell_type": "code",
   "execution_count": 349,
   "id": "ac04bfad-9510-4f7d-9ee1-2e9c8a553be8",
   "metadata": {},
   "outputs": [],
   "source": [
    "# Проверяем каждый Smiles по 6 крититериям и записываем в массив points количество успехов\n",
    "\n",
    "fpgen = AllChem.GetMorganGenerator(radius=2)\n",
    "\n",
    "params = FilterCatalogParams()\n",
    "params.AddCatalog(FilterCatalogParams.FilterCatalogs.BRENK)\n",
    "catalog = FilterCatalog(params)\n",
    "\n",
    "model = xgb.XGBRegressor()\n",
    "model.load_model(\"xgb_model.json\")\n",
    "points = []\n",
    "for i in range(len(df)):\n",
    "    p = 0\n",
    "    df['SMILES'][i]\n",
    "    #1) QED критерий\n",
    "    smile = df['SMILES'][i]\n",
    "    mol = Chem.MolFromSmiles(smile)\n",
    "    score = QED.qed(mol)\n",
    "    if score >= 0.5: p += 1\n",
    "    #2) SA score (синтезируемость)\n",
    "    if sascorer.calculateScore(mol) > 2 and sascorer.calculateScore(mol) < 6: p += 1\n",
    "    #3) Toxicophore\n",
    "    matches = catalog.GetMatches(mol)\n",
    "    if len(matches) == 0: p += 1\n",
    "    # 4) pValue\n",
    "    fingerprint = list(fpgen.GetFingerprint(mol))\n",
    "    if model.predict([fingerprint]) > -3: p += 1\n",
    "    # 5) Lipinski 5\n",
    "    mw = Descriptors.MolWt(mol)               # молекулярная масса\n",
    "    logp = Descriptors.MolLogP(mol)           # логP (жирорастворимость)\n",
    "    h_donors = NumHDonors(mol)                 # число доноров H-связей\n",
    "    h_acceptors = NumHAcceptors(mol)          # число акцепторов H-связей\n",
    "    n_vio = 0\n",
    "    if mw > 500: n_vio += 1\n",
    "    if logp > 5: n_vio += 1\n",
    "    if h_donors > 5: n_vio += 1\n",
    "    if h_acceptors > 10: n_vio += 1\n",
    "    if n_vio <= 1: p += 1 \n",
    "    #6) BBB\n",
    "    mw = Descriptors.MolWt(mol)\n",
    "    logp = Descriptors.MolLogP(mol)\n",
    "    hbd = Descriptors.NumHDonors(mol)\n",
    "    hba = Descriptors.NumHAcceptors(mol)\n",
    "    tpsa = Descriptors.TPSA(mol)\n",
    "    logbb = 0.152 * logp - 0.0148 * tpsa + 0.139\n",
    "    if (mw < 500 and logp > -1 and logp < 5 and hbd <= 3 and tpsa < 90) or (-1 < logbb < 0.5): p += 1\n",
    "    \n",
    "    points.append(p)"
   ]
  },
  {
   "cell_type": "code",
   "execution_count": 350,
   "id": "9961898b-f683-420c-80bb-d48ff6e2f978",
   "metadata": {},
   "outputs": [
    {
     "data": {
      "text/plain": [
       "array([1, 2, 3, 4])"
      ]
     },
     "execution_count": 350,
     "metadata": {},
     "output_type": "execute_result"
    }
   ],
   "source": [
    "import numpy as np\n",
    "points = np.array(points)\n",
    "np.unique(points)"
   ]
  },
  {
   "cell_type": "code",
   "execution_count": 351,
   "id": "4e121a41-9c2f-4efd-b9df-4f04dfde3cb8",
   "metadata": {},
   "outputs": [
    {
     "name": "stdout",
     "output_type": "stream",
     "text": [
      "[0, 59, 35, 5, 1, 0, 0]\n"
     ]
    }
   ],
   "source": [
    "# Смотрим статистику по Smiles\n",
    "scc = [0, 0, 0, 0, 0, 0, 0]\n",
    "for i in range(len(points)):\n",
    "    scc[points[i]] += 1\n",
    "print(scc)"
   ]
  },
  {
   "cell_type": "code",
   "execution_count": 352,
   "id": "0ae2d59b-7eb1-4b39-a285-3290ca995d9f",
   "metadata": {},
   "outputs": [
    {
     "data": {
      "text/html": [
       "<div>\n",
       "<style scoped>\n",
       "    .dataframe tbody tr th:only-of-type {\n",
       "        vertical-align: middle;\n",
       "    }\n",
       "\n",
       "    .dataframe tbody tr th {\n",
       "        vertical-align: top;\n",
       "    }\n",
       "\n",
       "    .dataframe thead th {\n",
       "        text-align: right;\n",
       "    }\n",
       "</style>\n",
       "<table border=\"1\" class=\"dataframe\">\n",
       "  <thead>\n",
       "    <tr style=\"text-align: right;\">\n",
       "      <th></th>\n",
       "      <th>SMILES</th>\n",
       "      <th>QED</th>\n",
       "      <th>SA</th>\n",
       "      <th>Toxicophore</th>\n",
       "      <th>pValue</th>\n",
       "      <th>Lipinski violated</th>\n",
       "      <th>BBB</th>\n",
       "      <th>Num_successes</th>\n",
       "    </tr>\n",
       "  </thead>\n",
       "  <tbody>\n",
       "    <tr>\n",
       "      <th>0</th>\n",
       "      <td>0</td>\n",
       "      <td>0</td>\n",
       "      <td>0</td>\n",
       "      <td>0</td>\n",
       "      <td>0</td>\n",
       "      <td>0</td>\n",
       "      <td>0</td>\n",
       "      <td>0</td>\n",
       "    </tr>\n",
       "  </tbody>\n",
       "</table>\n",
       "</div>"
      ],
      "text/plain": [
       "   SMILES  QED  SA  Toxicophore  pValue  Lipinski violated  BBB  Num_successes\n",
       "0       0    0   0            0       0                  0    0              0"
      ]
     },
     "execution_count": 352,
     "metadata": {},
     "output_type": "execute_result"
    }
   ],
   "source": [
    "# Создаем новую таблицу, куда складываем 'хорошие' молекулы (удовлетворяют >= 5 критериям)\n",
    "data = {\n",
    "    'SMILES': [0],\n",
    "    'QED': [0],\n",
    "    'SA': [0],\n",
    "    'Toxicophore': [0],\n",
    "    'pValue': [0],\n",
    "    'Lipinski violated': [0],\n",
    "    'BBB': [0],\n",
    "    'Num_successes': [0]\n",
    "}\n",
    "\n",
    "df_good = pd.DataFrame(data)\n",
    "df_good"
   ]
  },
  {
   "cell_type": "code",
   "execution_count": 353,
   "id": "70cb47dc-7407-47ee-a206-7e1d1a2ba00b",
   "metadata": {},
   "outputs": [
    {
     "data": {
      "text/html": [
       "<div>\n",
       "<style scoped>\n",
       "    .dataframe tbody tr th:only-of-type {\n",
       "        vertical-align: middle;\n",
       "    }\n",
       "\n",
       "    .dataframe tbody tr th {\n",
       "        vertical-align: top;\n",
       "    }\n",
       "\n",
       "    .dataframe thead th {\n",
       "        text-align: right;\n",
       "    }\n",
       "</style>\n",
       "<table border=\"1\" class=\"dataframe\">\n",
       "  <thead>\n",
       "    <tr style=\"text-align: right;\">\n",
       "      <th></th>\n",
       "      <th>SMILES</th>\n",
       "      <th>QED</th>\n",
       "      <th>SA</th>\n",
       "      <th>Toxicophore</th>\n",
       "      <th>pValue</th>\n",
       "      <th>Lipinski violated</th>\n",
       "      <th>BBB</th>\n",
       "      <th>Num_successes</th>\n",
       "    </tr>\n",
       "  </thead>\n",
       "  <tbody>\n",
       "    <tr>\n",
       "      <th>0</th>\n",
       "      <td>0</td>\n",
       "      <td>0</td>\n",
       "      <td>0</td>\n",
       "      <td>0</td>\n",
       "      <td>0</td>\n",
       "      <td>0</td>\n",
       "      <td>0</td>\n",
       "      <td>0</td>\n",
       "    </tr>\n",
       "  </tbody>\n",
       "</table>\n",
       "</div>"
      ],
      "text/plain": [
       "   SMILES  QED  SA  Toxicophore  pValue  Lipinski violated  BBB  Num_successes\n",
       "0       0    0   0            0       0                  0    0              0"
      ]
     },
     "execution_count": 353,
     "metadata": {},
     "output_type": "execute_result"
    }
   ],
   "source": [
    "df_good"
   ]
  },
  {
   "cell_type": "markdown",
   "id": "ab46d703-3a75-4734-bea1-2c04ba07508d",
   "metadata": {},
   "source": [
    "smile = df['SMILES'][44711]\n",
    "mol = Chem.MolFromSmiles(smile)\n",
    "df_good.at[0, 'SMILES'] = smile\n",
    "df_good.at[0, 'QED'] = score\n",
    "df_good.at[0, 'SA'] = sascorer.calculateScore(mol)\n",
    "df_good.at[0, 'Toxicophore'] = 0\n",
    "df_good.at[0, 'pValue'] = model.predict([fingerprint])+6\n",
    "df_good.at[0, 'Lipinski violated'] =  n_vio \n",
    "df_good.at[0, 'BBB'] = '+'\n",
    "df_good.at[0, 'Num_successes'] = 6"
   ]
  },
  {
   "cell_type": "code",
   "execution_count": 354,
   "id": "7f9708c7-299c-47ab-807b-c569a214de41",
   "metadata": {},
   "outputs": [],
   "source": [
    "# Процесс добавления 'хороших' молекул\n",
    "\n",
    "i = 0\n",
    "k = 1\n",
    "while i < len(points):\n",
    "    if points[i] >= 5 : \n",
    "        print(i)\n",
    "        smile = df['SMILES'][i]\n",
    "        print(smile)\n",
    "        mol = Chem.MolFromSmiles(smile)\n",
    "        df_good.at[k, 'SMILES'] = smile\n",
    "        #1) QED критерий\n",
    "        score = QED.qed(mol)\n",
    "        df_good.at[k, 'QED'] = score\n",
    "        #2) SA score (синтезируемость)\n",
    "        df_good.at[k, 'SA'] = sascorer.calculateScore(mol)\n",
    "        #3) Toxicophore\n",
    "        matches = catalog.GetMatches(mol)\n",
    "        df_good.at[k, 'Toxicophore'] = len(matches)\n",
    "        # 4) pValue\n",
    "        fingerprint = list(fpgen.GetFingerprint(mol))\n",
    "        df_good.at[k, 'pValue'] = model.predict([fingerprint])+6\n",
    "        # 5) Lipinski 5\n",
    "        mw = Descriptors.MolWt(mol)               # молекулярная масса\n",
    "        logp = Descriptors.MolLogP(mol)           # логP (жирорастворимость)\n",
    "        h_donors = NumHDonors(mol)                 # число доноров H-связей\n",
    "        h_acceptors = NumHAcceptors(mol)          # число акцепторов H-связей\n",
    "        n_vio = 0\n",
    "        if mw > 500: n_vio += 1\n",
    "        if logp > 5: n_vio += 1\n",
    "        if h_donors > 5: n_vio += 1\n",
    "        if h_acceptors > 10: n_vio += 1\n",
    "        df_good.at[k, 'Lipinski violated'] =  n_vio \n",
    "        #6) BBB\n",
    "        mw = Descriptors.MolWt(mol)\n",
    "        logp = Descriptors.MolLogP(mol)\n",
    "        hbd = Descriptors.NumHDonors(mol)\n",
    "        hba = Descriptors.NumHAcceptors(mol)\n",
    "        tpsa = Descriptors.TPSA(mol)\n",
    "        logbb = 0.152 * logp - 0.0148 * tpsa + 0.139\n",
    "        if (mw < 500 and logp > -1 and logp < 5 and hbd <= 3 and tpsa < 90) or (-1 < logbb < 0.5): df_good.at[k, 'BBB'] = '+'\n",
    "        else: df_good.at[k, 'BBB'] = '-'\n",
    "        df_good.at[k, 'Num_successes'] = 5\n",
    "        k += 1\n",
    "    i += 1\n"
   ]
  },
  {
   "cell_type": "code",
   "execution_count": 355,
   "id": "e780cf5b-f17e-4bf5-81b9-85f575353123",
   "metadata": {},
   "outputs": [
    {
     "data": {
      "text/html": [
       "<div>\n",
       "<style scoped>\n",
       "    .dataframe tbody tr th:only-of-type {\n",
       "        vertical-align: middle;\n",
       "    }\n",
       "\n",
       "    .dataframe tbody tr th {\n",
       "        vertical-align: top;\n",
       "    }\n",
       "\n",
       "    .dataframe thead th {\n",
       "        text-align: right;\n",
       "    }\n",
       "</style>\n",
       "<table border=\"1\" class=\"dataframe\">\n",
       "  <thead>\n",
       "    <tr style=\"text-align: right;\">\n",
       "      <th></th>\n",
       "      <th>SMILES</th>\n",
       "      <th>QED</th>\n",
       "      <th>SA</th>\n",
       "      <th>Toxicophore</th>\n",
       "      <th>pValue</th>\n",
       "      <th>Lipinski violated</th>\n",
       "      <th>BBB</th>\n",
       "      <th>Num_successes</th>\n",
       "    </tr>\n",
       "  </thead>\n",
       "  <tbody>\n",
       "    <tr>\n",
       "      <th>0</th>\n",
       "      <td>0</td>\n",
       "      <td>0</td>\n",
       "      <td>0</td>\n",
       "      <td>0</td>\n",
       "      <td>0</td>\n",
       "      <td>0</td>\n",
       "      <td>0</td>\n",
       "      <td>0</td>\n",
       "    </tr>\n",
       "  </tbody>\n",
       "</table>\n",
       "</div>"
      ],
      "text/plain": [
       "   SMILES  QED  SA  Toxicophore  pValue  Lipinski violated  BBB  Num_successes\n",
       "0       0    0   0            0       0                  0    0              0"
      ]
     },
     "execution_count": 355,
     "metadata": {},
     "output_type": "execute_result"
    }
   ],
   "source": [
    "df_good"
   ]
  },
  {
   "cell_type": "code",
   "execution_count": 356,
   "id": "5f3b36dc-bc58-4146-b05e-c2041c9c55d9",
   "metadata": {},
   "outputs": [],
   "source": [
    "# Если молекула токсичная, то удаляем её, даже если остальные 5 параметров успешные\n",
    "for i in range(1, len(df_good)):\n",
    "    if df_good['Toxicophore'][i] != 0: df_good = df_good.drop(i)"
   ]
  },
  {
   "cell_type": "code",
   "execution_count": 357,
   "id": "1de3c160-6bbf-430e-918a-1bf175fb5b07",
   "metadata": {},
   "outputs": [
    {
     "data": {
      "text/html": [
       "<div>\n",
       "<style scoped>\n",
       "    .dataframe tbody tr th:only-of-type {\n",
       "        vertical-align: middle;\n",
       "    }\n",
       "\n",
       "    .dataframe tbody tr th {\n",
       "        vertical-align: top;\n",
       "    }\n",
       "\n",
       "    .dataframe thead th {\n",
       "        text-align: right;\n",
       "    }\n",
       "</style>\n",
       "<table border=\"1\" class=\"dataframe\">\n",
       "  <thead>\n",
       "    <tr style=\"text-align: right;\">\n",
       "      <th></th>\n",
       "      <th>SMILES</th>\n",
       "      <th>QED</th>\n",
       "      <th>SA</th>\n",
       "      <th>Toxicophore</th>\n",
       "      <th>pValue</th>\n",
       "      <th>Lipinski violated</th>\n",
       "      <th>BBB</th>\n",
       "      <th>Num_successes</th>\n",
       "    </tr>\n",
       "  </thead>\n",
       "  <tbody>\n",
       "    <tr>\n",
       "      <th>0</th>\n",
       "      <td>0</td>\n",
       "      <td>0</td>\n",
       "      <td>0</td>\n",
       "      <td>0</td>\n",
       "      <td>0</td>\n",
       "      <td>0</td>\n",
       "      <td>0</td>\n",
       "      <td>0</td>\n",
       "    </tr>\n",
       "  </tbody>\n",
       "</table>\n",
       "</div>"
      ],
      "text/plain": [
       "   SMILES  QED  SA  Toxicophore  pValue  Lipinski violated  BBB  Num_successes\n",
       "0       0    0   0            0       0                  0    0              0"
      ]
     },
     "execution_count": 357,
     "metadata": {},
     "output_type": "execute_result"
    }
   ],
   "source": [
    "df_good"
   ]
  },
  {
   "cell_type": "code",
   "execution_count": 358,
   "id": "d4544ed7-e4ee-48b0-a872-d47076515162",
   "metadata": {},
   "outputs": [],
   "source": [
    "df_good = df_good.drop(0)"
   ]
  },
  {
   "cell_type": "code",
   "execution_count": 359,
   "id": "4efaa3dc-85e9-4d1d-867e-5db5bda1cc95",
   "metadata": {},
   "outputs": [
    {
     "data": {
      "text/html": [
       "<div>\n",
       "<style scoped>\n",
       "    .dataframe tbody tr th:only-of-type {\n",
       "        vertical-align: middle;\n",
       "    }\n",
       "\n",
       "    .dataframe tbody tr th {\n",
       "        vertical-align: top;\n",
       "    }\n",
       "\n",
       "    .dataframe thead th {\n",
       "        text-align: right;\n",
       "    }\n",
       "</style>\n",
       "<table border=\"1\" class=\"dataframe\">\n",
       "  <thead>\n",
       "    <tr style=\"text-align: right;\">\n",
       "      <th></th>\n",
       "      <th>SMILES</th>\n",
       "      <th>QED</th>\n",
       "      <th>SA</th>\n",
       "      <th>Toxicophore</th>\n",
       "      <th>pValue</th>\n",
       "      <th>Lipinski violated</th>\n",
       "      <th>BBB</th>\n",
       "      <th>Num_successes</th>\n",
       "    </tr>\n",
       "  </thead>\n",
       "  <tbody>\n",
       "  </tbody>\n",
       "</table>\n",
       "</div>"
      ],
      "text/plain": [
       "Empty DataFrame\n",
       "Columns: [SMILES, QED, SA, Toxicophore, pValue, Lipinski violated, BBB, Num_successes]\n",
       "Index: []"
      ]
     },
     "execution_count": 359,
     "metadata": {},
     "output_type": "execute_result"
    }
   ],
   "source": [
    "df_good"
   ]
  },
  {
   "cell_type": "code",
   "execution_count": 344,
   "id": "36f5b2e3-1d0a-4da3-ac06-c7d9d0364d81",
   "metadata": {},
   "outputs": [],
   "source": [
    "df_good.to_csv(\"good_mol_final.csv\", index=False)"
   ]
  },
  {
   "cell_type": "code",
   "execution_count": null,
   "id": "edf62798-63dd-4c81-8455-7eaa8506842d",
   "metadata": {},
   "outputs": [],
   "source": []
  }
 ],
 "metadata": {
  "kernelspec": {
   "display_name": "Python 3 (ipykernel)",
   "language": "python",
   "name": "python3"
  },
  "language_info": {
   "codemirror_mode": {
    "name": "ipython",
    "version": 3
   },
   "file_extension": ".py",
   "mimetype": "text/x-python",
   "name": "python",
   "nbconvert_exporter": "python",
   "pygments_lexer": "ipython3",
   "version": "3.12.6"
  }
 },
 "nbformat": 4,
 "nbformat_minor": 5
}
