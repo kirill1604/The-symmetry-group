{
 "cells": [
  {
   "cell_type": "markdown",
   "metadata": {},
   "source": [
    "### PandocFormatter"
   ]
  },
  {
   "cell_type": "code",
   "execution_count": null,
   "metadata": {},
   "outputs": [],
   "source": [
    "import sys\n",
    "import os\n",
    "\n",
    "sys.path.append(os.path.abspath(os.path.join(os.path.dirname('__file__'), '..', 'formatter')))"
   ]
  },
  {
   "cell_type": "code",
   "execution_count": null,
   "metadata": {},
   "outputs": [],
   "source": [
    "from formatter import PandocFormatter\n",
    "\n",
    "# base_path = os.path.join('..', '..', 'TechDocs', 'requirements_specification')\n",
    "# base_path = os.path.join('..', '..', 'TechDocs', 'tests_docs')\n",
    "# base_path = os.path.join('..', '..', 'TechDocs', 'scientific_article')\n",
    "base_path = os.path.join('..', '..', 'TechDocs', 'preprint_01')\n",
    "exclude = r'README|_?notes|_?contents|a-list-of-performers|z-appendices|z-changesheet'\n",
    "\n",
    "print(base_path)\n",
    "\n",
    "formatter = PandocFormatter(base_path, exclude, toc_depth=4)\n",
    "formatter.gen_docx()\n",
    "# formatter.gen_pdf()"
   ]
  },
  {
   "cell_type": "markdown",
   "metadata": {},
   "source": [
    "### Other"
   ]
  }
 ],
 "metadata": {
  "kernelspec": {
   "display_name": ".venv",
   "language": "python",
   "name": "python3"
  },
  "language_info": {
   "codemirror_mode": {
    "name": "ipython",
    "version": 3
   },
   "file_extension": ".py",
   "mimetype": "text/x-python",
   "name": "python",
   "nbconvert_exporter": "python",
   "pygments_lexer": "ipython3",
   "version": "3.13.3"
  }
 },
 "nbformat": 4,
 "nbformat_minor": 2
}
